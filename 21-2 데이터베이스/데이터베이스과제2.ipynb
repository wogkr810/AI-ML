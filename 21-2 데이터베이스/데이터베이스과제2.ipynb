{
 "cells": [
  {
   "cell_type": "code",
   "execution_count": 2,
   "metadata": {},
   "outputs": [],
   "source": [
    "# 라이브러리\n",
    "import urllib.request\n",
    "from urllib.request import urlopen\n",
    "from bs4 import BeautifulSoup\n",
    "import requests\n",
    "\n",
    "import selenium\n",
    "from selenium import webdriver\n",
    "from selenium.webdriver.common.keys import Keys\n",
    "import time\n",
    "import pyperclip\n",
    "import getpass\n",
    "\n",
    "from PIL import Image\n",
    "import urllib.request\n",
    "from io import BytesIO"
   ]
  },
  {
   "cell_type": "code",
   "execution_count": 4,
   "metadata": {},
   "outputs": [
    {
     "name": "stdout",
     "output_type": "stream",
     "text": [
      "{'name': 'fragment-x-sacai-x-nike-ldwaffle-grey', 'url': 'https://luckydraw-media.s3.amazonaws.com/product/515/thumb_1628669334650.jpeg'}\n",
      "{'name': 'nike-dunk-high-championship-navy', 'url': 'https://luckydraw-media.s3.amazonaws.com/product/683/thumb_1630380721401.jpg'}\n",
      "{'name': 'dunk-low-next-nature-sail-wmns', 'url': 'https://luckydraw-media.s3.amazonaws.com/product/692/thumb_1628759124015.jpg'}\n",
      "{'name': 'dunk-low-next-nature-pale-coral-wmns', 'url': 'https://luckydraw-media.s3.amazonaws.com/product/691/thumb_1628758974385.jpg'}\n",
      "{'name': 'dunk-low-lime-ice-wmns', 'url': 'https://luckydraw-media.s3.amazonaws.com/product/603/thumb_1625704435108.jpg'}\n",
      "{'name': 'dunk-low-university-blue', 'url': 'https://luckydraw-media.s3.amazonaws.com/product/372/thumb_1631502495659.jpeg'}\n",
      "{'name': 'dunk-low-university-red', 'url': 'https://luckydraw-media.s3.amazonaws.com/product/553/thumb_1625368892930.jpg'}\n",
      "{'name': 'dunk-high-black-white-wmns', 'url': 'https://luckydraw-media.s3.amazonaws.com/product/429/thumb_1619428175844.jpg'}\n",
      "{'name': 'air-jordan-1-low-particle-grey', 'url': 'https://luckydraw-media.s3.amazonaws.com/product/571/thumb_1625368766146.png'}\n",
      "{'name': 'air-jordan-1-mid-gym-red', 'url': 'https://luckydraw-media.s3.amazonaws.com/product/383/thumb_1619918710891.jpg'}\n",
      "{'name': 'nike-dunk-low-championship-grey', 'url': 'https://luckydraw-media.s3.amazonaws.com/product/703/thumb_1630380806968.jpg'}\n",
      "{'name': 'nike-air-jordan-1-low-starfish', 'url': 'https://luckydraw-media.s3.amazonaws.com/product/473/thumb_1621549950148.jpeg'}\n"
     ]
    }
   ],
   "source": [
    "#HTML To Json\n",
    "target_url='https://www.luck-d.com/release-raffle/'\n",
    "read_url=urllib.request.urlopen(target_url)\n",
    "before_soup=read_url.read()\n",
    "soup=BeautifulSoup(before_soup,\"html.parser\")\n",
    "find_on_raffles=soup.find(\"div\",class_=\"gallery_horizontal\")\n",
    "\n",
    "div_raffles=soup.find_all(\"div\",{\"class\":\"gallery_cell_layer\"})\n",
    "\n",
    "for div_raffle in div_raffles:\n",
    "    name=div_raffle.a.get(\"href\")[23:-1]\n",
    "    image=div_raffle.find(\"img\").get(\"src\")\n",
    "    \n",
    "    obj={}\n",
    "    obj[\"name\"]=name\n",
    "    obj[\"url\"]=image\n",
    "    print(obj)"
   ]
  },
  {
   "cell_type": "code",
   "execution_count": 7,
   "metadata": {},
   "outputs": [
    {
     "name": "stdout",
     "output_type": "stream",
     "text": [
      "https://luckydraw-media.s3.amazonaws.com/product/515/thumb_1628669334650.jpeg\n",
      "https://luckydraw-media.s3.amazonaws.com/product/683/thumb_1630380721401.jpg\n",
      "https://luckydraw-media.s3.amazonaws.com/product/692/thumb_1628759124015.jpg\n",
      "https://luckydraw-media.s3.amazonaws.com/product/691/thumb_1628758974385.jpg\n",
      "https://luckydraw-media.s3.amazonaws.com/product/603/thumb_1625704435108.jpg\n",
      "https://luckydraw-media.s3.amazonaws.com/product/372/thumb_1631502495659.jpeg\n",
      "https://luckydraw-media.s3.amazonaws.com/product/553/thumb_1625368892930.jpg\n",
      "https://luckydraw-media.s3.amazonaws.com/product/429/thumb_1619428175844.jpg\n",
      "https://luckydraw-media.s3.amazonaws.com/product/571/thumb_1625368766146.png\n",
      "https://luckydraw-media.s3.amazonaws.com/product/383/thumb_1619918710891.jpg\n",
      "https://luckydraw-media.s3.amazonaws.com/product/703/thumb_1630380806968.jpg\n",
      "https://luckydraw-media.s3.amazonaws.com/product/473/thumb_1621549950148.jpeg\n"
     ]
    }
   ],
   "source": [
    "#진행중인 raffle 신발들 이미지 출력\n",
    "for div_raffle in div_raffles:\n",
    "    url=div_raffle.find(\"img\").get(\"src\")\n",
    "    res=requests.get(url)\n",
    "    img = Image.open(BytesIO(res.content))\n",
    "    img.show()"
   ]
  }
 ],
 "metadata": {
  "kernelspec": {
   "display_name": "Python 3",
   "language": "python",
   "name": "python3"
  },
  "language_info": {
   "codemirror_mode": {
    "name": "ipython",
    "version": 3
   },
   "file_extension": ".py",
   "mimetype": "text/x-python",
   "name": "python",
   "nbconvert_exporter": "python",
   "pygments_lexer": "ipython3",
   "version": "3.7.7"
  }
 },
 "nbformat": 4,
 "nbformat_minor": 4
}
