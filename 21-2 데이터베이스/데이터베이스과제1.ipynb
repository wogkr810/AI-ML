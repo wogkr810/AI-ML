{
 "cells": [
  {
   "cell_type": "code",
   "execution_count": 2,
   "metadata": {},
   "outputs": [],
   "source": [
    "# 라이브러리\n",
    "import urllib.request\n",
    "from urllib.request import urlopen\n",
    "from bs4 import BeautifulSoup\n",
    "import requests\n",
    "\n",
    "import selenium\n",
    "from selenium import webdriver\n",
    "from selenium.webdriver.common.keys import Keys\n",
    "import time\n",
    "import pyperclip\n",
    "import getpass"
   ]
  },
  {
   "cell_type": "markdown",
   "metadata": {},
   "source": [
    "# 과제1\n"
   ]
  },
  {
   "cell_type": "code",
   "execution_count": 3,
   "metadata": {},
   "outputs": [],
   "source": [
    "# html 저장\n",
    "def crwal(target_url,filename):\n",
    "  read_url=target_url\n",
    "  save_filename=filename\n",
    "  response=requests.get(read_url)\n",
    "  with open(save_filename, \"w\",\n",
    "            encoding=response.encoding) as output:\n",
    "          output.write(response.text)\n",
    "\n",
    "base_url=\"https://www.luck-d.com/release-raffle/\"\n",
    "save_file_name=\"raffle.html\"\n",
    "\n",
    "crwal(base_url,save_file_name)"
   ]
  },
  {
   "cell_type": "code",
   "execution_count": 3,
   "metadata": {},
   "outputs": [],
   "source": [
    "# html 저장 (count)\n",
    "def crwal_count(target_url,filename,n):\n",
    "  count=0\n",
    "  url_list=[]\n",
    "  read_url=urllib.request.urlopen(target_url)\n",
    "  before_soup=read_url.read()\n",
    "  soup=BeautifulSoup(before_soup,\"html.parser\")\n",
    "  find_on_raffle=soup.find(\"div\",class_=\"gallery_horizontal\",id=\"product_list\")\n",
    "  for i in find_on_raffle('a',limit=n):\n",
    "    count+=1\n",
    "    url_list.append(i.attrs['href'])\n",
    "    save_filename=filename+str(count)+\".html\"\n",
    "    response=requests.get(target_url+url_list[count-1][15:-1])\n",
    "    with open(save_filename, \"w\",\n",
    "              encoding=response.encoding) as output:\n",
    "            output.write(response.text)\n",
    "\n",
    "base_url=\"https://www.luck-d.com/release-raffle/\"\n",
    "save_file_name=\"raffle\"\n",
    "\n",
    "crwal_count(base_url,save_file_name,5)"
   ]
  },
  {
   "cell_type": "markdown",
   "metadata": {},
   "source": [
    "# 과제2"
   ]
  },
  {
   "cell_type": "code",
   "execution_count": null,
   "metadata": {},
   "outputs": [],
   "source": [
    "# html 저장 함수\n",
    "def crwal_login(target_url,filename,id,password):\n",
    "  read_url=target_url\n",
    "  save_filename=filename\n",
    "  response=requests.get(read_url)\n",
    "  with open(save_filename, \"w\",\n",
    "            encoding=response.encoding) as output:\n",
    "          output.write(response.text)\n",
    "            \n",
    "# 셀레니움 이용 로그인 만들기\n",
    "driver = webdriver.Chrome(r'C:\\chromedriver.exe')\n",
    "driver.get(base_url)\n",
    "driver.implicitly_wait(3)\n",
    "\n",
    "driver.find_element_by_name('id').send_keys(idid)\n",
    "driver.find_element_by_name('pw').send_keys(pwpw)\n",
    "driver.find_element_by_xpath('//*[@id=\"id\"]').click()\n",
    "\n",
    "# target url, 저장 파일 이름, 아이디,비밀번호\n",
    "base_url='https://nid.naver.com/nidlogin.login?mode=form&url=https%3A%2F%2Fwww.naver.com'\n",
    "save_file_name=\"naver_login.html\"\n",
    "idid='아아이이디디'\n",
    "pwpw='비비번번'\n",
    "\n",
    "#실행\n",
    "crwal_login(base_url,save_file_name,idid,pwpw)"
   ]
  }
 ],
 "metadata": {
  "kernelspec": {
   "display_name": "Python 3",
   "language": "python",
   "name": "python3"
  },
  "language_info": {
   "codemirror_mode": {
    "name": "ipython",
    "version": 3
   },
   "file_extension": ".py",
   "mimetype": "text/x-python",
   "name": "python",
   "nbconvert_exporter": "python",
   "pygments_lexer": "ipython3",
   "version": "3.7.7"
  }
 },
 "nbformat": 4,
 "nbformat_minor": 4
}
